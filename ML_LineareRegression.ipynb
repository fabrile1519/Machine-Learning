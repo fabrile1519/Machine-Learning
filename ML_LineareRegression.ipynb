{
 "cells": [
  {
   "cell_type": "markdown",
   "id": "3e2975f4",
   "metadata": {},
   "source": [
    "Import des librairies pour la regression linéaire"
   ]
  },
  {
   "cell_type": "code",
   "execution_count": 378,
   "id": "2d5e2c08",
   "metadata": {},
   "outputs": [
    {
     "name": "stdout",
     "output_type": "stream",
     "text": [
      "   Surface        Prix\n",
      "0      152  313.157702\n",
      "1      142  250.314252\n",
      "2       64  134.536904\n",
      "3      156  310.377621\n",
      "4      121  251.355895\n"
     ]
    }
   ],
   "source": [
    "import pandas as pd\n",
    "import numpy as np\n",
    "import matplotlib.pyplot as plt\n",
    "from sklearn.model_selection import train_test_split\n",
    "from sklearn.linear_model import LinearRegression\n"
   ]
  },
  {
   "cell_type": "markdown",
   "id": "ffe3e825",
   "metadata": {},
   "source": [
    "Generer le dataset "
   ]
  },
  {
   "cell_type": "code",
   "execution_count": 453,
   "id": "38e13b66",
   "metadata": {},
   "outputs": [
    {
     "name": "stdout",
     "output_type": "stream",
     "text": [
      "   Surface        Prix\n",
      "0      152  313.157702\n",
      "1      142  250.314252\n",
      "2       64  134.536904\n",
      "3      156  310.377621\n",
      "4      121  251.355895\n"
     ]
    }
   ],
   "source": [
    "# Fixer une graine aléatoire pour la reproductibilité\n",
    "np.random.seed(42)\n",
    "\n",
    "# Générer des données aléatoires pour la surface de logement (en mètres carrés)\n",
    "surface_logement = np.random.randint(50, 200, 100)\n",
    "\n",
    "# Générer des données aléatoires pour le prix des logements (en milliers d'euros)\n",
    "prix_logement = 2 * surface_logement + np.random.normal(0, 20, 100)\n",
    "\n",
    "# Créer un DataFrame avec les données générées\n",
    "data = pd.DataFrame({'Surface': surface_logement, 'Prix': prix_logement})\n",
    "\n",
    "# Afficher les premières lignes du DataFrame\n",
    "print(data.head())\n",
    "\n",
    "# Sauvegarder le DataFrame dans un fichier CSV\n",
    "data.to_csv('C:\\\\Users\\HP\\Downloads\\dataset_logements.csv', index=False)"
   ]
  },
  {
   "cell_type": "code",
   "execution_count": 454,
   "id": "3cb7f3ee",
   "metadata": {
    "scrolled": true
   },
   "outputs": [
    {
     "data": {
      "text/plain": [
       "<matplotlib.collections.PathCollection at 0x1e681294ca0>"
      ]
     },
     "execution_count": 454,
     "metadata": {},
     "output_type": "execute_result"
    },
    {
     "data": {
      "image/png": "[encoded data removed]",
      "text/plain": [
       "<Figure size 432x288 with 1 Axes>"
      ]
     },
     "metadata": {
      "needs_background": "light"
     },
     "output_type": "display_data"
    }
   ],
   "source": [
    "#Afficher le nuage de points de notre dataset\n",
    "plt.scatter(data['Surface'],data['Prix'])"
   ]
  },
  {
   "cell_type": "code",
   "execution_count": 455,
   "id": "0eaabf96",
   "metadata": {},
   "outputs": [],
   "source": [
    "X = data[[\"Surface\"]] # X = data.iloc[:,:-1].values \n",
    "Y = data[[\"Prix\"]] # Y = data.iloc[:,-1].values"
   ]
  },
  {
   "cell_type": "code",
   "execution_count": 463,
   "id": "13fdd76c",
   "metadata": {},
   "outputs": [],
   "source": [
    "#Diviser le dataset \n",
    "#X_train,X_test,Y_train,Y_test = train_test_split(X,Y, test_size=1.0/3, random_state=42)\n",
    "X_train,X_test,Y_train,Y_test = train_test_split(X,Y, test_size=1.0/3)\n"
   ]
  },
  {
   "cell_type": "code",
   "execution_count": 464,
   "id": "3d0176ee",
   "metadata": {},
   "outputs": [
    {
     "data": {
      "text/plain": [
       "LinearRegression()"
      ]
     },
     "execution_count": 464,
     "metadata": {},
     "output_type": "execute_result"
    }
   ],
   "source": [
    "#Construction du model linéaire\n",
    "model = LinearRegression()\n",
    "\n",
    "# Entrainer le model avec les données d'entrainement avec FIT\n",
    "model.fit(X_train,Y_train)"
   ]
  },
  {
   "cell_type": "code",
   "execution_count": 465,
   "id": "f7ecb3c7",
   "metadata": {},
   "outputs": [],
   "source": [
    "#Faire des prédictions \n",
    "Y_prediction = model.predict(X_test)"
   ]
  },
  {
   "cell_type": "code",
   "execution_count": 466,
   "id": "595f3529",
   "metadata": {},
   "outputs": [
    {
     "data": {
      "text/plain": [
       "array([[789.32194188]])"
      ]
     },
     "execution_count": 466,
     "metadata": {},
     "output_type": "execute_result"
    }
   ],
   "source": [
    "#prediction du prix d'un appart de 400m²\n",
    "model.predict([[400]])"
   ]
  },
  {
   "cell_type": "code",
   "execution_count": 467,
   "id": "13e93f57",
   "metadata": {},
   "outputs": [],
   "source": [
    "#evaluation des performances du modèle\n",
    "score = model.score"
   ]
  },
  {
   "cell_type": "code",
   "execution_count": 468,
   "id": "a06dc1e7",
   "metadata": {},
   "outputs": [
    {
     "data": {
      "text/plain": [
       "0.9307423458162408"
      ]
     },
     "execution_count": 468,
     "metadata": {},
     "output_type": "execute_result"
    }
   ],
   "source": [
    "score(X_test,Y_test)"
   ]
  },
  {
   "cell_type": "code",
   "execution_count": 462,
   "id": "bbd43543",
   "metadata": {},
   "outputs": [
    {
     "name": "stderr",
     "output_type": "stream",
     "text": [
      "No handles with labels found to put in legend.\n"
     ]
    },
    {
     "data": {
      "image/png": "[encoded data removed]",
      "text/plain": [
       "<Figure size 432x288 with 1 Axes>"
      ]
     },
     "metadata": {
      "needs_background": "light"
     },
     "output_type": "display_data"
    }
   ],
   "source": [
    "#Visualisation des résultats\n",
    "plt.scatter(X_test,Y_test, color='green')\n",
    "plt.plot(X_train,model.predict(X_train),color='red')\n",
    "plt.title('Evolution des loyer en fonction des surface')\n",
    "plt.xlabel('prix')\n",
    "plt.ylabel('surface')\n",
    "plt.legend()\n",
    "plt.show()"
   ]
  },
  {
   "cell_type": "code",
   "execution_count": 429,
   "id": "71ba0686",
   "metadata": {},
   "outputs": [
    {
     "data": {
      "text/plain": [
       "34"
      ]
     },
     "execution_count": 429,
     "metadata": {},
     "output_type": "execute_result"
    }
   ],
   "source": [
    "Y_prediction"
   ]
  },
  {
   "cell_type": "code",
   "execution_count": null,
   "id": "e39f42e7",
   "metadata": {},
   "outputs": [],
   "source": []
  }
 ],
 "metadata": {
  "kernelspec": {
   "display_name": "Python 3",
   "language": "python",
   "name": "python3"
  },
  "language_info": {
   "codemirror_mode": {
    "name": "ipython",
    "version": 3
   },
   "file_extension": ".py",
   "mimetype": "text/x-python",
   "name": "python",
   "nbconvert_exporter": "python",
   "pygments_lexer": "ipython3",
   "version": "3.8.8"
  }
 },
 "nbformat": 4,
 "nbformat_minor": 5
}
